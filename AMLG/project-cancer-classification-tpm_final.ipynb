{
 "cells": [
  {
   "cell_type": "markdown",
   "id": "8bc02404-8cd1-46d9-8237-2d035ebb3e79",
   "metadata": {},
   "source": [
    "# **[Project] Cancer Subtype Classification**"
   ]
  },
  {
   "cell_type": "markdown",
   "id": "0c5076f4",
   "metadata": {},
   "source": [
    "# Introduction"
   ]
  },
  {
   "cell_type": "markdown",
   "id": "8a599748",
   "metadata": {},
   "source": [
    "The [TCGA Kidney Cancers Dataset](https://archive.ics.uci.edu/dataset/892/tcga+kidney+cancers) is a bulk RNA-seq dataset that contains transcriptome profiles (i.e., gene expression quantification data) of patients diagnosed with three different subtypes of kidney cancers.\n",
    "This dataset can be used to make predictions about the specific subtype of kidney cancers given the normalized transcriptome profile data.\n",
    "\n",
    "The normalized transcriptome profile data is given as **TPM** and **FPKM** for each gene.\n",
    "\n",
    "> TPM (Transcripts Per Million) and FPKM (Fragments Per Kilobase Million) are two common methods for quantifying gene expression in RNA sequencing data.\n",
    "> They both aim to account for the differences in sequencing depth and transcript length when estimating gene expression levels.\n",
    ">\n",
    "> **TPM** (Transcripts Per Million):\n",
    "> - TPM is a measure of gene expression that normalizes for both library size (sequencing depth) and transcript length.\n",
    "> - The main idea behind TPM is to express the abundance of a transcript relative to the total number of transcripts in a sample, scaled to one million.\n",
    ">\n",
    "> **FPKM** (Fragments Per Kilobase Million):\n",
    "> - FPKM is another method for quantifying gene expression, which is commonly used in older RNA-seq analysis pipelines. It's similar in concept to TPM but differs in the way it's calculated.\n",
    "> - FPKM also normalizes for library size and transcript length, but it measures gene expression as the number of fragments (i.e., reads) per kilobase of exon model per million reads.\n",
    ">\n",
    "> TPM is generally considered more robust to variations in library size, making it a preferred choice in many modern RNA-seq analysis workflows.\n",
    "\n",
    "We provide one dataset for each kidney cancer subtype:\n",
    "\n",
    "- [TCGA-KICH](https://portal.gdc.cancer.gov/projects/TCGA-KICH): kidney chromophobe (renal clear cell carcinoma)\n",
    "- [TCGA-KIRC](https://portal.gdc.cancer.gov/projects/TCGA-KIRC): kidney renal clear cell carcinoma\n",
    "- [TCGA-KIRP](https://portal.gdc.cancer.gov/projects/TCGA-KIRP): kidney renal papillary cell carcinoma\n",
    "\n",
    "> This and _much_ more data is openly available on the [NCI Genomic Data Commons (GDC) Data Portal](https://portal.gdc.cancer.gov/)."
   ]
  },
  {
   "cell_type": "markdown",
   "id": "16712787",
   "metadata": {},
   "source": [
    "# Load dataset"
   ]
  },
  {
   "cell_type": "code",
   "execution_count": 48,
   "id": "a122244b",
   "metadata": {},
   "outputs": [],
   "source": [
    "# ignore future warnings\n",
    "import warnings\n",
    "warnings.simplefilter(action='ignore', category=FutureWarning)"
   ]
  },
  {
   "cell_type": "markdown",
   "id": "2b737335",
   "metadata": {},
   "source": [
    "All given feature are normalized transcriptome profiles, given as **TPM** and **FPKM** for each gene."
   ]
  },
  {
   "cell_type": "code",
   "execution_count": 49,
   "id": "34babda2",
   "metadata": {},
   "outputs": [],
   "source": [
    "feature_colums = ['unstranded', 'stranded_first', 'stranded_second', 'tpm_unstranded', 'fpkm_unstranded', 'fpkm_uq_unstranded']\n",
    "feature_colum = \"tpm_unstranded\"\n",
    "\n",
    "FONTSIZE = 16\n",
    "\n",
    "SEED = 2"
   ]
  },
  {
   "cell_type": "code",
   "execution_count": 50,
   "id": "f3ebeee7",
   "metadata": {},
   "outputs": [],
   "source": [
    "import matplotlib.pyplot as plt\n",
    "import seaborn as sns\n",
    "from collections import Counter\n",
    "from typing import List, Tuple, NamedTuple, Dict\n",
    "import os\n",
    "import numpy as np\n",
    "import pandas as pd\n",
    "import pickle\n"
   ]
  },
  {
   "cell_type": "code",
   "execution_count": 51,
   "id": "70b84adf",
   "metadata": {},
   "outputs": [],
   "source": [
    "missing_files = []\n",
    "class_path = {\"tcga-kich-geq\": \"gdc_manifest.tcga-kich-geq.txt\", \n",
    "              \"tcga-kirc-geq\": \"gdc_manifest.tcga-kirc-geq.txt\", \n",
    "              \"tcga-kirp-geq\": \"gdc_manifest.tcga-kirp-geq.txt\"}\n",
    "\n",
    "def load_data(feature_column: str, save: bool = True) -> pd.DataFrame:\n",
    "    # check if dataset already exists\n",
    "    file = f\"data/datasets/tcga_{feature_column}.csv\"\n",
    "    if os.path.isfile(file):\n",
    "        print(f\"Loading dataset from {file}\")\n",
    "        return pd.read_csv(file)\n",
    "    \n",
    "    X = []\n",
    "    y = []\n",
    "    sample_count = 0\n",
    "\n",
    "    for key, value in class_path.items():\n",
    "        manifest_filepath = os.path.join(\"data\", key, value)\n",
    "\n",
    "        # manifest contains the file id (=foldername) and file name of each sample, so we can load the data\n",
    "        manifest = pd.read_csv(filepath_or_buffer=manifest_filepath, sep=\"\\t\", header=0)\n",
    "\n",
    "        for sample in manifest.iterrows():\n",
    "            file_id, file_name = sample[1][\"id\"], sample[1][\"filename\"]\n",
    "            file_path = os.path.join(\"data\", key, file_id, file_name)\n",
    "\n",
    "            if not os.path.isfile(file_path):\n",
    "                print(f\"File {file_path} does not exist\")\n",
    "                continue\n",
    "                \n",
    "            genom_profil = pd.read_csv(file_path, sep=\"\\t\", header=1, skiprows=[2,3,4,5])\n",
    "            features = genom_profil[feature_column].values\n",
    "      \n",
    "            assert len(features) == 60660 # source: https://archive.ics.uci.edu/dataset/892/tcga+kidney+cancers, features: 60660 \n",
    "\n",
    "            if sample_count == 0:\n",
    "                reference_feature_names = genom_profil[\"gene_name\"].values\n",
    "            else:\n",
    "                assert np.array_equal(reference_feature_names, genom_profil[\"gene_name\"].values)\n",
    "\n",
    "            X.append(features)\n",
    "            y.append(key)\n",
    "\n",
    "            sample_count += 1\n",
    "\n",
    "    dataset = pd.DataFrame(X, columns=reference_feature_names)\n",
    "    dataset[\"class\"] = y\n",
    "\n",
    "    if save:\n",
    "        dataset.to_csv(file, index=False)\n",
    "\n",
    "    return dataset"
   ]
  },
  {
   "cell_type": "code",
   "execution_count": 52,
   "id": "0cf0e8c0",
   "metadata": {},
   "outputs": [
    {
     "name": "stdout",
     "output_type": "stream",
     "text": [
      "Loading dataset from data/datasets/tcga_tpm_unstranded.csv\n"
     ]
    },
    {
     "data": {
      "text/html": [
       "<div>\n",
       "<style scoped>\n",
       "    .dataframe tbody tr th:only-of-type {\n",
       "        vertical-align: middle;\n",
       "    }\n",
       "\n",
       "    .dataframe tbody tr th {\n",
       "        vertical-align: top;\n",
       "    }\n",
       "\n",
       "    .dataframe thead th {\n",
       "        text-align: right;\n",
       "    }\n",
       "</style>\n",
       "<table border=\"1\" class=\"dataframe\">\n",
       "  <thead>\n",
       "    <tr style=\"text-align: right;\">\n",
       "      <th></th>\n",
       "      <th>TSPAN6</th>\n",
       "      <th>TNMD</th>\n",
       "      <th>DPM1</th>\n",
       "      <th>SCYL3</th>\n",
       "      <th>C1orf112</th>\n",
       "      <th>FGR</th>\n",
       "      <th>CFH</th>\n",
       "      <th>FUCA2</th>\n",
       "      <th>GCLC</th>\n",
       "      <th>NFYA</th>\n",
       "      <th>...</th>\n",
       "      <th>AC092910.4</th>\n",
       "      <th>AC073611.1</th>\n",
       "      <th>AC136977.1</th>\n",
       "      <th>AC078856.1</th>\n",
       "      <th>AC008763.4</th>\n",
       "      <th>AL592295.6</th>\n",
       "      <th>AC006486.3</th>\n",
       "      <th>AL391628.1</th>\n",
       "      <th>AP006621.6</th>\n",
       "      <th>class</th>\n",
       "    </tr>\n",
       "  </thead>\n",
       "  <tbody>\n",
       "    <tr>\n",
       "      <th>0</th>\n",
       "      <td>55.9520</td>\n",
       "      <td>4.3021</td>\n",
       "      <td>83.0649</td>\n",
       "      <td>4.2308</td>\n",
       "      <td>1.6038</td>\n",
       "      <td>1.2908</td>\n",
       "      <td>0.6652</td>\n",
       "      <td>41.0652</td>\n",
       "      <td>19.2725</td>\n",
       "      <td>9.6328</td>\n",
       "      <td>...</td>\n",
       "      <td>0.0</td>\n",
       "      <td>0.1045</td>\n",
       "      <td>0.0</td>\n",
       "      <td>0.0</td>\n",
       "      <td>0.0</td>\n",
       "      <td>10.9815</td>\n",
       "      <td>0.0</td>\n",
       "      <td>0.0361</td>\n",
       "      <td>0.1181</td>\n",
       "      <td>tcga-kich-geq</td>\n",
       "    </tr>\n",
       "    <tr>\n",
       "      <th>1</th>\n",
       "      <td>12.3718</td>\n",
       "      <td>0.2012</td>\n",
       "      <td>43.2066</td>\n",
       "      <td>1.3020</td>\n",
       "      <td>0.3572</td>\n",
       "      <td>3.3282</td>\n",
       "      <td>7.9863</td>\n",
       "      <td>24.6686</td>\n",
       "      <td>7.6894</td>\n",
       "      <td>4.7810</td>\n",
       "      <td>...</td>\n",
       "      <td>0.0</td>\n",
       "      <td>0.0995</td>\n",
       "      <td>0.0</td>\n",
       "      <td>0.0</td>\n",
       "      <td>0.0</td>\n",
       "      <td>4.9445</td>\n",
       "      <td>0.0</td>\n",
       "      <td>0.0140</td>\n",
       "      <td>0.1928</td>\n",
       "      <td>tcga-kich-geq</td>\n",
       "    </tr>\n",
       "  </tbody>\n",
       "</table>\n",
       "<p>2 rows × 60661 columns</p>\n",
       "</div>"
      ],
      "text/plain": [
       "    TSPAN6    TNMD     DPM1   SCYL3  C1orf112     FGR     CFH    FUCA2  \\\n",
       "0  55.9520  4.3021  83.0649  4.2308    1.6038  1.2908  0.6652  41.0652   \n",
       "1  12.3718  0.2012  43.2066  1.3020    0.3572  3.3282  7.9863  24.6686   \n",
       "\n",
       "      GCLC    NFYA  ...  AC092910.4  AC073611.1  AC136977.1  AC078856.1  \\\n",
       "0  19.2725  9.6328  ...         0.0      0.1045         0.0         0.0   \n",
       "1   7.6894  4.7810  ...         0.0      0.0995         0.0         0.0   \n",
       "\n",
       "   AC008763.4  AL592295.6  AC006486.3  AL391628.1  AP006621.6          class  \n",
       "0         0.0     10.9815         0.0      0.0361      0.1181  tcga-kich-geq  \n",
       "1         0.0      4.9445         0.0      0.0140      0.1928  tcga-kich-geq  \n",
       "\n",
       "[2 rows x 60661 columns]"
      ]
     },
     "execution_count": 52,
     "metadata": {},
     "output_type": "execute_result"
    }
   ],
   "source": [
    "df = load_data(feature_colum)\n",
    "df.head(2)"
   ]
  },
  {
   "cell_type": "markdown",
   "id": "4142216a",
   "metadata": {},
   "source": [
    "Dataset contains of about 1000 samples and 60000 features."
   ]
  },
  {
   "cell_type": "markdown",
   "id": "95c544d6",
   "metadata": {},
   "source": [
    "# Explore dataset and analyze data"
   ]
  },
  {
   "cell_type": "code",
   "execution_count": 53,
   "id": "df6f3f95",
   "metadata": {},
   "outputs": [
    {
     "data": {
      "image/png": "[encoded data removed]",
      "text/plain": [
       "<Figure size 640x480 with 1 Axes>"
      ]
     },
     "metadata": {},
     "output_type": "display_data"
    }
   ],
   "source": [
    "# plot distribution of classes\n",
    "# count number of samples per class\n",
    "def plot_class_distribution(df: pd.DataFrame):\n",
    "    class_counts = Counter(df[\"class\"])\n",
    "\n",
    "    sns.set(style=\"whitegrid\")\n",
    "    sns.barplot(x=list(class_counts.keys()), y=list(class_counts.values()))\n",
    "    # sns.set(rc={'figure.figsize':(6,5)})\n",
    "\n",
    "    # title in bold\n",
    "    plt.title(\"Distribution of samples per cancer type\", fontweight=\"bold\", fontsize=FONTSIZE + 2)\n",
    "    plt.ylabel(\"Number of samples\", fontweight=\"bold\", fontsize=FONTSIZE)\n",
    "    plt.xlabel(\"Cancer type\", fontweight=\"bold\", fontsize=FONTSIZE)\n",
    "\n",
    "    #plot value above the bar\n",
    "    for index, value in enumerate(class_counts.values()):\n",
    "        plt.text(index, value, str(value), ha=\"center\")\n",
    "\n",
    "    plt.show()\n",
    "\n",
    "plot_class_distribution(df)"
   ]
  },
  {
   "cell_type": "markdown",
   "id": "5e1c0730",
   "metadata": {},
   "source": [
    "We can state that the dataset is imbalanced, since the number of samples for each class is not equal.\n",
    "Therefore we have different options to deal with this problem:\n",
    "- **Resampling**: We can remove samples from makority class (undersampling) or add samples to minority class (oversampling). For oversampling we can just copy samples or use more sophisticated methods like SMOTE\n",
    "- **Apadt learning algorithms**: We can use algorithms that are able to deal with imbalanced data like decision trees or random forest and use class weights \n",
    "\n",
    "In addition we have to be careful with the metrics used to evaluate the model. Accuracy is not a good metric for imbalanced data, since it is biased towards the majority class. Therefore we can use metrics like precision, recall or F1 score. We decide to use F1 score, since it is a good metric for imbalanced data and it is a combination of precision and recall and thus covers both aspects."
   ]
  },
  {
   "cell_type": "markdown",
   "id": "652a8555",
   "metadata": {},
   "source": [
    "# Basic ML models"
   ]
  },
  {
   "cell_type": "markdown",
   "id": "70e7eacf",
   "metadata": {},
   "source": [
    "In this section we will use basic ML models to classify the data. We build a pipeline that contains the following steps:\n",
    "- **Scaling**: We scale the data, in range from 0 to 1, to avoid that features with high values dominate the model. Especially important for SVM or MLP\n",
    "- **Feature selection**: We use feature selection to reduce the number of features and thus the complexity of the model. We use the SelectKBest method with the chi2 score to select the best features\n",
    "- **Classification**: We use different classification algorithms to classify the data. We use the following algorithms:\n",
    "    - SVM\n",
    "    - Random Forest\n",
    "    - MLP -> maybe replace with pytorch model\n",
    "\n",
    "We split the data into train and test data and use 5-fold cross validation to evaluate the model on the train set. So each folds is used once as validation set and the rest as training set. As metric we use the F1 macro score. We use the macro f1 score. We also compute the metrics for each class so we can see if the model is biased towards one class.\n",
    "Also aded MCC as metric for comparision to paper about miRNA\n",
    "\n",
    "We also compute the f1 score for the trainig set to compare it with the test set. If the f1 score for the training set is much higher than for the test set, we have overfitting. "
   ]
  },
  {
   "cell_type": "code",
   "execution_count": 54,
   "id": "0fe9d201",
   "metadata": {},
   "outputs": [],
   "source": [
    "# map class names to numbers\n",
    "from sklearn.preprocessing import LabelEncoder\n",
    "from sklearn.model_selection import train_test_split\n",
    "\n",
    "X = df.iloc[:, :-1].to_numpy()\n",
    "y = df.iloc[:, -1].to_numpy()\n"
   ]
  },
  {
   "cell_type": "code",
   "execution_count": 55,
   "id": "f38c8388",
   "metadata": {},
   "outputs": [],
   "source": [
    "class_encoder = LabelEncoder()\n",
    "y = class_encoder.fit_transform(y)\n",
    "\n",
    "X_train, X_test, y_train, y_test = train_test_split(X, y, stratify=y, test_size=0.2, random_state=SEED)\n",
    "\n",
    "# normalize data between 0 and 1\n",
    "from sklearn.preprocessing import MinMaxScaler\n",
    "scaler = MinMaxScaler()\n",
    "X_train = scaler.fit_transform(X_train)\n",
    "X_test = scaler.transform(X_test)"
   ]
  },
  {
   "cell_type": "code",
   "execution_count": 56,
   "id": "ec2884dc",
   "metadata": {},
   "outputs": [],
   "source": [
    "from sklearn.feature_selection import SelectKBest\n",
    "# from sklearn.feature_selection import chi2\n",
    "from sklearn.feature_selection import mutual_info_classif\n",
    "\n",
    "# apply SelectKBest class to extract top 10 best features\n",
    "selector_100 = SelectKBest(score_func=mutual_info_classif, k=100)\n",
    "X_train_100 = selector_100.fit_transform(X_train, y_train)\n",
    "X_test_100 = selector_100.transform(X_test)\n",
    "\n",
    "selector_1000 = SelectKBest(score_func=mutual_info_classif, k=1000)\n",
    "X_train_1000 = selector_1000.fit_transform(X_train, y_train)\n",
    "X_test_1000 = selector_1000.transform(X_test)\n",
    "\n",
    "selector_10000 = SelectKBest(score_func=mutual_info_classif, k=10000)\n",
    "X_train_10000 = selector_10000.fit_transform(X_train, y_train)\n",
    "X_test_10000 = selector_10000.transform(X_test)\n",
    "\n",
    "X_train_all = [X_train_100, X_train_1000, X_train_10000]\n",
    "X_test_all = [X_test_100, X_test_1000, X_test_10000]"
   ]
  },
  {
   "cell_type": "code",
   "execution_count": 57,
   "id": "d1a4ec72",
   "metadata": {},
   "outputs": [
    {
     "data": {
      "text/plain": [
       "Counter({1: 491, 2: 258, 0: 73})"
      ]
     },
     "execution_count": 57,
     "metadata": {},
     "output_type": "execute_result"
    }
   ],
   "source": [
    "# check how to sample new data using SMOTE\n",
    "Counter(y_train)"
   ]
  },
  {
   "cell_type": "code",
   "execution_count": 58,
   "id": "d0ffec42",
   "metadata": {},
   "outputs": [],
   "source": [
    "from imblearn.over_sampling import SMOTE\n",
    "\n",
    "# oversample training data\n",
    "oversampler = SMOTE(sampling_strategy={0: 258}, random_state=SEED)\n",
    "X_train_balanced_all = []\n",
    "\n",
    "for i in range(len(X_train_all)):\n",
    "    X_train_balanced, y_train_balanced = oversampler.fit_resample(X_train_all[i], y_train)\n",
    "    X_train_balanced_all.append(X_train_balanced)"
   ]
  },
  {
   "cell_type": "code",
   "execution_count": 59,
   "id": "9f7a1d05",
   "metadata": {},
   "outputs": [],
   "source": [
    "from sklearn.ensemble import RandomForestClassifier\n",
    "from sklearn.neural_network import MLPClassifier\n",
    "from sklearn.svm import SVC\n",
    "from sklearn.model_selection import GridSearchCV\n",
    "\n",
    "from sklearn.preprocessing import MinMaxScaler\n",
    "from sklearn.metrics import f1_score, confusion_matrix, matthews_corrcoef\n",
    "from sklearn.pipeline import Pipeline\n",
    "\n",
    "class TrainResult(NamedTuple):\n",
    "    model : object\n",
    "    f1_score_macro_train : float\n",
    "    f1_score_macro_test : float\n",
    "    f1_score_classes_test: Dict[str, float]\n",
    "    mcc_score_test: float\n",
    "    predictions : np.ndarray\n",
    "    num_features: int\n",
    "\n",
    "def save_result(result: object, model_name: str):\n",
    "\n",
    "    file = f\"./models/{model_name}_tpm.pkl\"\n",
    "    with open(file, \"wb\") as f:\n",
    "        pickle.dump(result, f)\n",
    "\n",
    "def get_model(model_name: str):\n",
    "    if model_name == \"random_forest\":\n",
    "        return RandomForestClassifier(random_state=SEED, class_weight=\"balanced\")\n",
    "    elif model_name == \"svm\":\n",
    "        return SVC(random_state=SEED, class_weight=\"balanced\")\n",
    "    else:\n",
    "        raise Exception(f\"Model {model_name} not supported\")\n",
    "\n",
    "def train_model(model_name:str, X_train_all: List[np.ndarray], X_test_all: List[np.ndarray], y_train: np.ndarray, y_test: np.ndarray,\n",
    "                hyperparameters: List[Dict[str, object]], class_encoder: LabelEncoder) -> TrainResult:\n",
    "    \"\"\"\n",
    "    Trains a model using the given hyperparameters and returns the best model, f1 score on train and test set, predictions on test set\n",
    "    therefore use different feature sets\n",
    "    \n",
    "    return: TrainResult, containing the model, f1 score on train and test set, predictions on test set\n",
    "    \"\"\"\n",
    "    best_f1_score = 0\n",
    "    best_X_train = None\n",
    "    best_X_test = None\n",
    "    best_model = None\n",
    "    num_features = None\n",
    "\n",
    "    for i, X_train in enumerate(X_train_all):\n",
    "        model = get_model(model_name)\n",
    "        grid_search = GridSearchCV(model, param_grid=hyperparameters, cv=5, n_jobs=-1, scoring=\"f1_macro\", refit=True)\n",
    "        grid_search.fit(X_train, y_train)\n",
    "\n",
    "        # predict on train and test set\n",
    "        y_pred_train = grid_search.predict(X_train)\n",
    "        y_pred_test = grid_search.predict(X_test_all[i])\n",
    "\n",
    "        # calculate f1 score\n",
    "        f1_score_train = f1_score(y_train, y_pred_train, average=\"macro\")\n",
    "        f1_score_test = f1_score(y_test, y_pred_test, average=\"macro\")\n",
    "        f1_score_classes_test = f1_score(y_test, y_pred_test, average=None)\n",
    "\n",
    "        mcc_test = matthews_corrcoef(y_test, y_pred_test)\n",
    "\n",
    "        print(f\"Train f1 score: {f1_score_train}\")\n",
    "        print(f\"Test f1 score: {f1_score_test}\")\n",
    "        print(f\"Test MCC score: {mcc_test}\")\n",
    "        print(f\"Number of features: {X_train.shape[1]}\")\n",
    "\n",
    "        if grid_search.best_score_ > best_f1_score:\n",
    "            best_f1_score = grid_search.best_score_\n",
    "            best_X_train = X_train\n",
    "            best_X_test = X_test_all[i]\n",
    "            best_model = grid_search\n",
    "            num_features = X_train.shape[1]\n",
    "    \n",
    "    # predict on train and test set\n",
    "    y_pred_train = best_model.predict(best_X_train)\n",
    "    y_pred_test = best_model.predict(best_X_test)\n",
    "\n",
    "    # calculate f1 score\n",
    "    f1_score_train = f1_score(y_train, y_pred_train, average=\"macro\")\n",
    "    f1_score_test = f1_score(y_test, y_pred_test, average=\"macro\")\n",
    "    f1_score_classes_test = f1_score(y_test, y_pred_test, average=None)\n",
    "\n",
    "    mcc_test = matthews_corrcoef(y_test, y_pred_test)\n",
    "\n",
    "    print(\" \")\n",
    "    print(\"---------------------------------------\")\n",
    "    print(\"best model\")\n",
    "    print(f\"Train f1 score: {f1_score_train}\")\n",
    "    print(f\"Test f1 score: {f1_score_test}\")\n",
    "    print(f\"Test MCC score: {mcc_test}\")\n",
    "    print(f\"Number of features: {num_features}\")\n",
    "\n",
    "    for i, class_name in enumerate(class_encoder.classes_):\n",
    "        print(f\"{class_name}: {f1_score_classes_test[i]}\")\n",
    "\n",
    "    return TrainResult(model=grid_search, \n",
    "                        f1_score_macro_train=f1_score_train, \n",
    "                        f1_score_macro_test=f1_score_test,\n",
    "                        f1_score_classes_test=f1_score_classes_test,\n",
    "                        mcc_score_test=mcc_test,\n",
    "                        predictions=y_pred_test,\n",
    "                        num_features=num_features)\n",
    "\n"
   ]
  },
  {
   "cell_type": "code",
   "execution_count": 60,
   "id": "6f290615",
   "metadata": {},
   "outputs": [
    {
     "name": "stdout",
     "output_type": "stream",
     "text": [
      "MODEL:  random_forest\n",
      "unbalanced data\n",
      "Train f1 score: 1.0\n",
      "Test f1 score: 0.8718190980095741\n",
      "Test MCC score: 0.8551524417321584\n",
      "Number of features: 100\n",
      "Train f1 score: 1.0\n",
      "Test f1 score: 0.8830138115852401\n",
      "Test MCC score: 0.855354528783735\n",
      "Number of features: 1000\n",
      "Train f1 score: 1.0\n",
      "Test f1 score: 0.9108409949966457\n",
      "Test MCC score: 0.8821243834072452\n",
      "Number of features: 10000\n",
      " \n",
      "---------------------------------------\n",
      "best model\n",
      "Train f1 score: 1.0\n",
      "Test f1 score: 0.9108409949966457\n",
      "Test MCC score: 0.8821243834072452\n",
      "Number of features: 10000\n",
      "tcga-kich-geq: 0.8571428571428571\n",
      "tcga-kirc-geq: 0.959349593495935\n",
      "tcga-kirp-geq: 0.9160305343511451\n",
      "-----------------------------------\n",
      "balanced data\n",
      "Train f1 score: 1.0\n",
      "Test f1 score: 0.9117475424529365\n",
      "Test MCC score: 0.8764873041774224\n",
      "Number of features: 100\n",
      "Train f1 score: 1.0\n",
      "Test f1 score: 0.9058406375370661\n",
      "Test MCC score: 0.8656947836121162\n",
      "Number of features: 1000\n",
      "Train f1 score: 1.0\n",
      "Test f1 score: 0.9137700593057736\n",
      "Test MCC score: 0.8836474815961194\n",
      "Number of features: 10000\n",
      " \n",
      "---------------------------------------\n",
      "best model\n",
      "Train f1 score: 1.0\n",
      "Test f1 score: 0.9137700593057736\n",
      "Test MCC score: 0.8836474815961194\n",
      "Number of features: 10000\n",
      "tcga-kich-geq: 0.8717948717948718\n",
      "tcga-kirc-geq: 0.9632653061224489\n",
      "tcga-kirp-geq: 0.90625\n",
      "-----------------------------------\n",
      "-----------------------------------\n",
      " \n",
      "MODEL:  svm\n",
      "unbalanced data\n",
      "Train f1 score: 0.9980327266041552\n",
      "Test f1 score: 0.9037532613290189\n",
      "Test MCC score: 0.8661333284258749\n",
      "Number of features: 100\n",
      "Train f1 score: 1.0\n",
      "Test f1 score: 0.8958422977624784\n",
      "Test MCC score: 0.8449167675607275\n",
      "Number of features: 1000\n",
      "Train f1 score: 0.9954239745572009\n",
      "Test f1 score: 0.9381808278867102\n",
      "Test MCC score: 0.89449012741489\n",
      "Number of features: 10000\n",
      " \n",
      "---------------------------------------\n",
      "best model\n",
      "Train f1 score: 0.9954239745572009\n",
      "Test f1 score: 0.9381808278867102\n",
      "Test MCC score: 0.89449012741489\n",
      "Number of features: 10000\n",
      "tcga-kich-geq: 0.9444444444444444\n",
      "tcga-kirc-geq: 0.9583333333333333\n",
      "tcga-kirp-geq: 0.9117647058823529\n",
      "-----------------------------------\n",
      "balanced data\n",
      "Train f1 score: 0.9980327266041552\n",
      "Test f1 score: 0.8770125497398226\n",
      "Test MCC score: 0.839171640168826\n",
      "Number of features: 100\n",
      "Train f1 score: 1.0\n",
      "Test f1 score: 0.941872854874238\n",
      "Test MCC score: 0.9027223555695701\n",
      "Number of features: 1000\n",
      "Train f1 score: 0.9990154653437885\n",
      "Test f1 score: 0.9345096096310096\n",
      "Test MCC score: 0.8863700511203534\n",
      "Number of features: 10000\n",
      " \n",
      "---------------------------------------\n",
      "best model\n",
      "Train f1 score: 0.9990154653437885\n",
      "Test f1 score: 0.9345096096310096\n",
      "Test MCC score: 0.8863700511203534\n",
      "Number of features: 10000\n",
      "tcga-kich-geq: 0.9444444444444444\n",
      "tcga-kirc-geq: 0.9539748953974895\n",
      "tcga-kirp-geq: 0.9051094890510949\n",
      "-----------------------------------\n",
      "-----------------------------------\n",
      " \n"
     ]
    }
   ],
   "source": [
    "def test_models(X_train_all: List[np.ndarray], X_train_balanced_all: List[np.ndarray], \n",
    "               X_test_all: List[np.ndarray], y_train: np.ndarray, y_train_balanced: np.ndarray, y_test: np.ndarray,\n",
    "                hyperparameters: List[Dict[str, object]], class_encoder: LabelEncoder) -> TrainResult:\n",
    "\n",
    "    hyperparameters_dict_rf = {\"n_estimators\": [100, 200, 300, 400, 500],\n",
    "                                \"max_depth\": [10, 20, 50, 100, None]}\n",
    "\n",
    "    hyperparameters_dict_svm = {\"C\": [0.1, 1, 10, 100, 1000],\n",
    "                                \"gamma\": [1, 0.1, 0.01, 0.001, 0.0001],\n",
    "                                \"kernel\": [\"rbf\", \"poly\", \"sigmoid\"]}\n",
    "\n",
    "    model_dict = {\"random_forest\": hyperparameters_dict_rf,\n",
    "                    \"svm\": hyperparameters_dict_svm}\n",
    "\n",
    "    models = []\n",
    "    for model_name, hyperparameters in model_dict.items():\n",
    "        print(\"MODEL: \", model_name)\n",
    "        print(\"unbalanced data\")\n",
    "        result = train_model(model_name, X_train_all, X_test_all, y_train, y_test, hyperparameters, class_encoder)\n",
    "        save_result(result, model_name)\n",
    "        models.append(result)\n",
    "        print(\"-----------------------------------\")\n",
    "\n",
    "        print(\"balanced data\")\n",
    "        result = train_model(model_name, X_train_balanced_all, X_test_all, y_train_balanced, y_test, hyperparameters, class_encoder)\n",
    "        save_result(result, f\"{model_name}_balanced\")\n",
    "        models.append(result)\n",
    "\n",
    "        print(\"-----------------------------------\")\n",
    "        print(\"-----------------------------------\")\n",
    "        print(\" \")\n",
    "\n",
    "\n",
    "    return models\n",
    "\n",
    "models = test_models(X_train_all, X_train_balanced_all, X_test_all, y_train, y_train_balanced, y_test, hyperparameters=None, class_encoder=class_encoder)"
   ]
  },
  {
   "cell_type": "code",
   "execution_count": 61,
   "id": "af3c77a6",
   "metadata": {},
   "outputs": [],
   "source": [
    "best_model = max(models, key=lambda x: x.f1_score_macro_test)"
   ]
  },
  {
   "cell_type": "code",
   "execution_count": 62,
   "id": "8b669089",
   "metadata": {},
   "outputs": [
    {
     "data": {
      "image/png": "[encoded data removed]",
      "text/plain": [
       "<Figure size 640x480 with 2 Axes>"
      ]
     },
     "metadata": {},
     "output_type": "display_data"
    }
   ],
   "source": [
    "from sklearn.metrics import ConfusionMatrixDisplay\n",
    "\n",
    "def plot_confusion_matrix(y_test: np.ndarray, predictions: np.ndarray, \n",
    "                          class_encoder: LabelEncoder, normalize: bool = True):\n",
    "    cm = confusion_matrix(y_test, predictions)\n",
    "    disp = ConfusionMatrixDisplay(confusion_matrix=cm, display_labels=class_encoder.classes_)\n",
    "    disp.plot(cmap=\"Blues\", values_format=\"d\")\n",
    "    plt.title(\"Confusion matrix\", fontweight=\"bold\", fontsize=FONTSIZE + 2)\n",
    "    plt.xlabel(\"Prediction\", fontweight=\"bold\", fontsize=FONTSIZE)\n",
    "    plt.ylabel(\"True label\", fontweight=\"bold\", fontsize=FONTSIZE)\n",
    "    plt.show()\n",
    "\n",
    "plot_confusion_matrix(y_test, best_model.predictions, class_encoder)"
   ]
  },
  {
   "cell_type": "markdown",
   "id": "845f7a3e",
   "metadata": {},
   "source": [
    "# Pytorch Approach"
   ]
  },
  {
   "cell_type": "code",
   "execution_count": 63,
   "id": "0fc4a9dc",
   "metadata": {},
   "outputs": [],
   "source": [
    "X_train_temp = X_train\n",
    "y_train_temp = y_train\n",
    "\n",
    "X_train_balanced_temp, y_train_balanced_temp = oversampler.fit_resample(X_train_temp, y_train_temp)"
   ]
  },
  {
   "cell_type": "code",
   "execution_count": 64,
   "id": "e1bcbd85",
   "metadata": {},
   "outputs": [],
   "source": [
    "import torch\n",
    "import torch.nn as nn\n",
    "import torch.nn.functional as F\n",
    "from torch.utils.data import Dataset, DataLoader\n",
    "\n",
    "import tqdm\n",
    "from torch.optim import Adam, lr_scheduler\n",
    "\n",
    "batch_size = 64\n",
    "num_epochs = 10\n",
    "learning_rate = 0.0001\n",
    "\n",
    "torch.manual_seed(SEED)\n",
    "\n",
    "class TCGADataset(Dataset):\n",
    "    def __init__(self, X: np.ndarray, y: np.ndarray):\n",
    "        self.X = torch.from_numpy(X).float()\n",
    "        self.y = torch.from_numpy(y).long()\n",
    "\n",
    "    def __len__(self):\n",
    "        return len(self.X)\n",
    "    \n",
    "    def __getitem__(self, idx):\n",
    "        return self.X[idx], self.y[idx]\n",
    "    \n",
    "# oversampler\n",
    "# X_train_balanced, y_train_balanced = oversampler.fit_resample(X_train, y_train)\n",
    "X_train, X_val, y_train, y_val = train_test_split(X_train_temp, y_train_temp, stratify=y_train_temp, test_size=0.1, random_state=SEED)\n",
    "X_train_balanced, X_val_balanced, y_train_balanced, y_val_balanced = train_test_split(X_train_balanced_temp, y_train_balanced_temp, stratify=y_train_balanced_temp, test_size=0.1, random_state=SEED)\n",
    "\n",
    "train_dataset = TCGADataset(X_train, y_train)\n",
    "val_dataset = TCGADataset(X_val, y_val)\n",
    "test_dataset = TCGADataset(X_test, y_test)\n",
    "\n",
    "train_dataset_balanced = TCGADataset(X_train_balanced, y_train_balanced)\n",
    "val_dataset_balanced = TCGADataset(X_val_balanced, y_val_balanced)\n",
    "\n",
    "\n",
    "train_loader = DataLoader(train_dataset, batch_size=batch_size, shuffle=True)\n",
    "val_loader = DataLoader(val_dataset, batch_size=batch_size, shuffle=False)\n",
    "test_loader = DataLoader(test_dataset, batch_size=batch_size, shuffle=False)\n",
    "\n",
    "train_loader_balanced = DataLoader(train_dataset_balanced, batch_size=batch_size, shuffle=True)\n",
    "val_loader_balanced = DataLoader(val_dataset_balanced, batch_size=batch_size, shuffle=False)"
   ]
  },
  {
   "cell_type": "code",
   "execution_count": 65,
   "id": "b0ca7924",
   "metadata": {},
   "outputs": [],
   "source": [
    "class CancerDetection(nn.Module):\n",
    "\n",
    "    def __init__(self, input_size: int, num_classes: int):\n",
    "        super(CancerDetection, self).__init__()\n",
    "        self.model = nn.Sequential(\n",
    "            nn.Linear(input_size, 1024),\n",
    "            nn.BatchNorm1d(1024),\n",
    "            nn.ReLU(),\n",
    "\n",
    "            nn.Linear(1024, 512),\n",
    "            nn.BatchNorm1d(512),\n",
    "            nn.ReLU(),\n",
    "\n",
    "            nn.Linear(512, 256),\n",
    "            nn.BatchNorm1d(256),\n",
    "            nn.ReLU(),\n",
    "\n",
    "            nn.Linear(256, num_classes),\n",
    "            nn.Sigmoid()\n",
    "        )\n",
    "    \n",
    "    def forward(self, x):\n",
    "        return self.model(x)\n",
    "    \n",
    "    def predict(self, x):\n",
    "        out = self.forward(x)\n",
    "        return torch.argmax(out, dim=1)\n",
    "    \n",
    "    def predict_proba(self, x):\n",
    "        out = self.forward(x)\n",
    "        return F.softmax(out, dim=1)\n",
    "    "
   ]
  },
  {
   "cell_type": "code",
   "execution_count": 66,
   "id": "5a60565e",
   "metadata": {},
   "outputs": [],
   "source": [
    "model = CancerDetection(input_size=X_train.shape[1], num_classes=np.unique(y).shape[0])\n",
    "optim = Adam(model.parameters(), lr=learning_rate)\n",
    "scheduler = lr_scheduler.StepLR(optim, step_size=4)\n",
    "criterion = nn.CrossEntropyLoss()\n",
    "\n",
    "class Metrics(NamedTuple):\n",
    "    f1_score_test_macro: float\n",
    "    f1_score_test_classes: np.ndarray\n",
    "    mcc_score_test: float\n",
    "\n",
    "def init_weights_xavier(model):\n",
    "    if type(model) == nn.Linear:\n",
    "        nn.init.xavier_uniform_(model.weight)\n",
    "    if type(model) == nn.BatchNorm1d:\n",
    "        nn.init.xavier_uniform_(model.weight)\n",
    "\n",
    "def init_weights_normal(model):\n",
    "    if type(model) == nn.Linear:\n",
    "        nn.init.normal_(model.weight, mean=0, std=0.01)\n",
    "    if type(model) == nn.BatchNorm1d:\n",
    "        nn.init.normal_(model.weight, mean=0, std=0.01)\n",
    "\n",
    "def plot_train_val_loss(train_losses: List[float], val_losses: List[float]):\n",
    "    plt.figure(figsize=(6, 4))\n",
    "    plt.plot(train_losses, label=\"Train loss\")\n",
    "    plt.plot(val_losses, label=\"Val loss\")\n",
    "    plt.xlabel(\"Epoch\", fontweight=\"bold\", fontsize=FONTSIZE)\n",
    "    plt.ylabel(\"Loss\", fontweight=\"bold\", fontsize=FONTSIZE)\n",
    "    plt.title(\"Train loss\", fontweight=\"bold\", fontsize=FONTSIZE + 2)\n",
    "    plt.legend()\n",
    "    plt.show()\n",
    "\n",
    "\n",
    "def evaluate(model, test_loader: DataLoader, encoder: LabelEncoder, \n",
    "             print_res: bool = True) -> Metrics:\n",
    "    \n",
    "    model.eval()\n",
    "    y_pred = []\n",
    "    y_true = []\n",
    "    for X_, y_ in test_loader:\n",
    "        y_pred.extend(model.predict(X_).tolist())\n",
    "        y_true.extend(y_.tolist())\n",
    "    \n",
    "    f1_score_macro = f1_score(y_true, y_pred, average=\"macro\")\n",
    "    f1_score_classes = f1_score(y_true, y_pred, average=None)\n",
    "    mcc_score = matthews_corrcoef(y_true, y_pred)\n",
    "\n",
    "    if print_res:\n",
    "        print(f\"Test f1 score: {f1_score_macro}\")\n",
    "        print(f\"Test MCC score: {mcc_score}\")\n",
    "        for i, class_name in enumerate(class_encoder.classes_):\n",
    "            print(f\"{class_name}: {f1_score_classes[i]}\")\n",
    "\n",
    "    plot_confusion_matrix(y_true, y_pred, encoder)\n",
    "    \n",
    "    return Metrics(f1_score_test_macro=f1_score_macro, \n",
    "                   f1_score_test_classes=f1_score_classes,\n",
    "                     mcc_score_test=mcc_score)\n",
    "\n",
    "def train(model, train_loader: DataLoader, val_loader: DataLoader, optim: object, \n",
    "          criterion: object, scheduler: object, num_epochs: int, plot_losses: bool = True) -> CancerDetection:\n",
    "    \n",
    "    train_losses = []\n",
    "    val_losses = []\n",
    "    f1_scores = []\n",
    "\n",
    "    best_model = None\n",
    "    best_f1_score = 0\n",
    "\n",
    "    for epoch in tqdm.tqdm(range(1, num_epochs + 1)):\n",
    "        model.train()\n",
    "        train_loss = 0.0\n",
    "        for X_, y_ in train_loader:\n",
    "            optim.zero_grad()\n",
    "            outputs = model(X_)\n",
    "            loss = criterion(outputs, y_)\n",
    "            loss.backward()\n",
    "            optim.step()\n",
    "            train_loss += loss.item()\n",
    "\n",
    "        scheduler.step()\n",
    "\n",
    "        train_loss = train_loss / len(train_loader)\n",
    "        train_losses.append(train_loss)\n",
    "\n",
    "\n",
    "        model.eval()\n",
    "        val_loss = 0.0\n",
    "        with torch.no_grad():\n",
    "            predictions = []\n",
    "            y_true = []\n",
    "            for X_, y_ in val_loader:\n",
    "                outputs = model(X_)\n",
    "                loss = criterion(outputs, y_)\n",
    "                val_loss += loss.item()\n",
    "\n",
    "                predictions.extend(model.predict(X_).tolist())\n",
    "                y_true.extend(y_.tolist())\n",
    "\n",
    "        f1 = f1_score(y_true, predictions, average=\"macro\")\n",
    "        f1_scores.append(f1)\n",
    "        val_loss = val_loss / len(val_loader)\n",
    "        val_losses.append(val_loss)\n",
    "\n",
    "        if f1 > best_f1_score:\n",
    "            best_f1_score = f1\n",
    "            best_model = model\n",
    "\n",
    "\n",
    "        print(f\"Epoch {epoch}, Train Loss: {train_loss:.4f}\")\n",
    "        print(f\"Epoch {epoch}, Val Loss: {val_loss:.4f}\")\n",
    "        print(f\"Epoch {epoch}, Val f1 score: {f1:.4f}\")\n",
    "        print(\"--------------------------------------------------\")\n",
    "\n",
    "    if plot_losses:\n",
    "        plot_train_val_loss(train_losses, val_losses)\n",
    "\n",
    "    return best_model\n"
   ]
  },
  {
   "cell_type": "code",
   "execution_count": 67,
   "id": "6f826d98",
   "metadata": {},
   "outputs": [
    {
     "name": "stderr",
     "output_type": "stream",
     "text": [
      " 10%|█         | 1/10 [00:05<00:53,  5.95s/it]"
     ]
    },
    {
     "name": "stdout",
     "output_type": "stream",
     "text": [
      "Epoch 1, Train Loss: 0.8420\n",
      "Epoch 1, Val Loss: 1.0003\n",
      "Epoch 1, Val f1 score: 0.8802\n",
      "--------------------------------------------------\n"
     ]
    },
    {
     "name": "stderr",
     "output_type": "stream",
     "text": [
      " 20%|██        | 2/10 [00:11<00:47,  5.91s/it]"
     ]
    },
    {
     "name": "stdout",
     "output_type": "stream",
     "text": [
      "Epoch 2, Train Loss: 0.7370\n",
      "Epoch 2, Val Loss: 0.8187\n",
      "Epoch 2, Val f1 score: 0.8815\n",
      "--------------------------------------------------\n"
     ]
    },
    {
     "name": "stderr",
     "output_type": "stream",
     "text": [
      " 30%|███       | 3/10 [00:17<00:41,  5.98s/it]"
     ]
    },
    {
     "name": "stdout",
     "output_type": "stream",
     "text": [
      "Epoch 3, Train Loss: 0.6973\n",
      "Epoch 3, Val Loss: 0.7376\n",
      "Epoch 3, Val f1 score: 0.9346\n",
      "--------------------------------------------------\n"
     ]
    },
    {
     "name": "stderr",
     "output_type": "stream",
     "text": [
      " 40%|████      | 4/10 [00:23<00:34,  5.78s/it]"
     ]
    },
    {
     "name": "stdout",
     "output_type": "stream",
     "text": [
      "Epoch 4, Train Loss: 0.6795\n",
      "Epoch 4, Val Loss: 0.7049\n",
      "Epoch 4, Val f1 score: 0.9443\n",
      "--------------------------------------------------\n"
     ]
    },
    {
     "name": "stderr",
     "output_type": "stream",
     "text": [
      " 50%|█████     | 5/10 [00:29<00:28,  5.77s/it]"
     ]
    },
    {
     "name": "stdout",
     "output_type": "stream",
     "text": [
      "Epoch 5, Train Loss: 0.6637\n",
      "Epoch 5, Val Loss: 0.6986\n",
      "Epoch 5, Val f1 score: 0.9443\n",
      "--------------------------------------------------\n"
     ]
    },
    {
     "name": "stderr",
     "output_type": "stream",
     "text": [
      " 60%|██████    | 6/10 [00:35<00:23,  5.85s/it]"
     ]
    },
    {
     "name": "stdout",
     "output_type": "stream",
     "text": [
      "Epoch 6, Train Loss: 0.6591\n",
      "Epoch 6, Val Loss: 0.6919\n",
      "Epoch 6, Val f1 score: 0.9126\n",
      "--------------------------------------------------\n"
     ]
    },
    {
     "name": "stderr",
     "output_type": "stream",
     "text": [
      " 70%|███████   | 7/10 [00:42<00:18,  6.25s/it]"
     ]
    },
    {
     "name": "stdout",
     "output_type": "stream",
     "text": [
      "Epoch 7, Train Loss: 0.6557\n",
      "Epoch 7, Val Loss: 0.6875\n",
      "Epoch 7, Val f1 score: 0.9126\n",
      "--------------------------------------------------\n"
     ]
    },
    {
     "name": "stderr",
     "output_type": "stream",
     "text": [
      " 80%|████████  | 8/10 [00:48<00:12,  6.32s/it]"
     ]
    },
    {
     "name": "stdout",
     "output_type": "stream",
     "text": [
      "Epoch 8, Train Loss: 0.6548\n",
      "Epoch 8, Val Loss: 0.6911\n",
      "Epoch 8, Val f1 score: 0.9126\n",
      "--------------------------------------------------\n"
     ]
    },
    {
     "name": "stderr",
     "output_type": "stream",
     "text": [
      " 90%|█████████ | 9/10 [00:55<00:06,  6.55s/it]"
     ]
    },
    {
     "name": "stdout",
     "output_type": "stream",
     "text": [
      "Epoch 9, Train Loss: 0.6569\n",
      "Epoch 9, Val Loss: 0.6892\n",
      "Epoch 9, Val f1 score: 0.9126\n",
      "--------------------------------------------------\n"
     ]
    },
    {
     "name": "stderr",
     "output_type": "stream",
     "text": [
      "100%|██████████| 10/10 [01:02<00:00,  6.28s/it]"
     ]
    },
    {
     "name": "stdout",
     "output_type": "stream",
     "text": [
      "Epoch 10, Train Loss: 0.6506\n",
      "Epoch 10, Val Loss: 0.6896\n",
      "Epoch 10, Val f1 score: 0.9126\n",
      "--------------------------------------------------\n"
     ]
    },
    {
     "name": "stderr",
     "output_type": "stream",
     "text": [
      "\n"
     ]
    },
    {
     "data": {
      "image/png": "[encoded data removed]",
      "text/plain": [
       "<Figure size 600x400 with 1 Axes>"
      ]
     },
     "metadata": {},
     "output_type": "display_data"
    },
    {
     "name": "stdout",
     "output_type": "stream",
     "text": [
      "Test f1 score: 0.9286099865047234\n",
      "Test MCC score: 0.9126268286525007\n",
      "tcga-kich-geq: 0.8717948717948718\n",
      "tcga-kirc-geq: 0.9666666666666667\n",
      "tcga-kirp-geq: 0.9473684210526316\n"
     ]
    },
    {
     "data": {
      "image/png": "[encoded data removed]",
      "text/plain": [
       "<Figure size 640x480 with 2 Axes>"
      ]
     },
     "metadata": {},
     "output_type": "display_data"
    }
   ],
   "source": [
    "# init_weights_xavier(model)\n",
    "model = train(model, train_loader, val_loader, optim, criterion, scheduler, num_epochs)\n",
    "metrics = evaluate(model, test_loader, class_encoder)"
   ]
  },
  {
   "cell_type": "code",
   "execution_count": 68,
   "id": "c17646fa",
   "metadata": {},
   "outputs": [
    {
     "name": "stderr",
     "output_type": "stream",
     "text": [
      " 10%|█         | 1/10 [00:09<01:21,  9.09s/it]"
     ]
    },
    {
     "name": "stdout",
     "output_type": "stream",
     "text": [
      "Epoch 1, Train Loss: 0.8127\n",
      "Epoch 1, Val Loss: 0.9576\n",
      "Epoch 1, Val f1 score: 0.8866\n",
      "--------------------------------------------------\n"
     ]
    },
    {
     "name": "stderr",
     "output_type": "stream",
     "text": [
      " 20%|██        | 2/10 [00:17<01:09,  8.74s/it]"
     ]
    },
    {
     "name": "stdout",
     "output_type": "stream",
     "text": [
      "Epoch 2, Train Loss: 0.7135\n",
      "Epoch 2, Val Loss: 0.7623\n",
      "Epoch 2, Val f1 score: 0.9233\n",
      "--------------------------------------------------\n"
     ]
    },
    {
     "name": "stderr",
     "output_type": "stream",
     "text": [
      " 30%|███       | 3/10 [00:24<00:56,  8.13s/it]"
     ]
    },
    {
     "name": "stdout",
     "output_type": "stream",
     "text": [
      "Epoch 3, Train Loss: 0.6895\n",
      "Epoch 3, Val Loss: 0.7223\n",
      "Epoch 3, Val f1 score: 0.9081\n",
      "--------------------------------------------------\n"
     ]
    },
    {
     "name": "stderr",
     "output_type": "stream",
     "text": [
      " 40%|████      | 4/10 [00:31<00:45,  7.61s/it]"
     ]
    },
    {
     "name": "stdout",
     "output_type": "stream",
     "text": [
      "Epoch 4, Train Loss: 0.6510\n",
      "Epoch 4, Val Loss: 0.6779\n",
      "Epoch 4, Val f1 score: 0.9457\n",
      "--------------------------------------------------\n"
     ]
    },
    {
     "name": "stderr",
     "output_type": "stream",
     "text": [
      " 50%|█████     | 5/10 [00:38<00:36,  7.29s/it]"
     ]
    },
    {
     "name": "stdout",
     "output_type": "stream",
     "text": [
      "Epoch 5, Train Loss: 0.6340\n",
      "Epoch 5, Val Loss: 0.6747\n",
      "Epoch 5, Val f1 score: 0.9553\n",
      "--------------------------------------------------\n"
     ]
    },
    {
     "name": "stderr",
     "output_type": "stream",
     "text": [
      " 60%|██████    | 6/10 [00:45<00:28,  7.16s/it]"
     ]
    },
    {
     "name": "stdout",
     "output_type": "stream",
     "text": [
      "Epoch 6, Train Loss: 0.6368\n",
      "Epoch 6, Val Loss: 0.6747\n",
      "Epoch 6, Val f1 score: 0.9553\n",
      "--------------------------------------------------\n"
     ]
    },
    {
     "name": "stderr",
     "output_type": "stream",
     "text": [
      " 70%|███████   | 7/10 [00:52<00:21,  7.13s/it]"
     ]
    },
    {
     "name": "stdout",
     "output_type": "stream",
     "text": [
      "Epoch 7, Train Loss: 0.6365\n",
      "Epoch 7, Val Loss: 0.6731\n",
      "Epoch 7, Val f1 score: 0.9448\n",
      "--------------------------------------------------\n"
     ]
    },
    {
     "name": "stderr",
     "output_type": "stream",
     "text": [
      " 80%|████████  | 8/10 [00:59<00:14,  7.13s/it]"
     ]
    },
    {
     "name": "stdout",
     "output_type": "stream",
     "text": [
      "Epoch 8, Train Loss: 0.6332\n",
      "Epoch 8, Val Loss: 0.6718\n",
      "Epoch 8, Val f1 score: 0.9553\n",
      "--------------------------------------------------\n"
     ]
    },
    {
     "name": "stderr",
     "output_type": "stream",
     "text": [
      " 90%|█████████ | 9/10 [01:06<00:07,  7.09s/it]"
     ]
    },
    {
     "name": "stdout",
     "output_type": "stream",
     "text": [
      "Epoch 9, Train Loss: 0.6299\n",
      "Epoch 9, Val Loss: 0.6678\n",
      "Epoch 9, Val f1 score: 0.9553\n",
      "--------------------------------------------------\n"
     ]
    },
    {
     "name": "stderr",
     "output_type": "stream",
     "text": [
      "100%|██████████| 10/10 [01:13<00:00,  7.34s/it]"
     ]
    },
    {
     "name": "stdout",
     "output_type": "stream",
     "text": [
      "Epoch 10, Train Loss: 0.6315\n",
      "Epoch 10, Val Loss: 0.6721\n",
      "Epoch 10, Val f1 score: 0.9342\n",
      "--------------------------------------------------\n"
     ]
    },
    {
     "name": "stderr",
     "output_type": "stream",
     "text": [
      "\n"
     ]
    },
    {
     "data": {
      "image/png": "[encoded data removed]",
      "text/plain": [
       "<Figure size 600x400 with 1 Axes>"
      ]
     },
     "metadata": {},
     "output_type": "display_data"
    },
    {
     "name": "stdout",
     "output_type": "stream",
     "text": [
      "Test f1 score: 0.9326740086731351\n",
      "Test MCC score: 0.9118465165288636\n",
      "tcga-kich-geq: 0.8947368421052632\n",
      "tcga-kirc-geq: 0.970954356846473\n",
      "tcga-kirp-geq: 0.9323308270676691\n"
     ]
    },
    {
     "data": {
      "image/png": "[encoded data removed]",
      "text/plain": [
       "<Figure size 640x480 with 2 Axes>"
      ]
     },
     "metadata": {},
     "output_type": "display_data"
    }
   ],
   "source": [
    "model = CancerDetection(input_size=X_train.shape[1], num_classes=np.unique(y).shape[0])\n",
    "optim = Adam(model.parameters(), lr=learning_rate)\n",
    "scheduler = lr_scheduler.StepLR(optim, step_size=4)\n",
    "criterion = nn.CrossEntropyLoss()\n",
    "\n",
    "model = train(model, train_loader_balanced, val_loader_balanced, optim, criterion, scheduler, num_epochs)\n",
    "metrics = evaluate(model, test_loader, class_encoder)"
   ]
  },
  {
   "cell_type": "code",
   "execution_count": null,
   "id": "f76ae94c",
   "metadata": {},
   "outputs": [],
   "source": []
  }
 ],
 "metadata": {
  "kernelspec": {
   "display_name": "Python 3 (ipykernel)",
   "language": "python",
   "name": "python3"
  },
  "language_info": {
   "codemirror_mode": {
    "name": "ipython",
    "version": 3
   },
   "file_extension": ".py",
   "mimetype": "text/x-python",
   "name": "python",
   "nbconvert_exporter": "python",
   "pygments_lexer": "ipython3",
   "version": "3.10.13"
  }
 },
 "nbformat": 4,
 "nbformat_minor": 5
}
